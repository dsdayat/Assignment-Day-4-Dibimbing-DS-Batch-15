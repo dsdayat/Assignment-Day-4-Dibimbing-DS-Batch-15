{
  "nbformat": 4,
  "nbformat_minor": 0,
  "metadata": {
    "colab": {
      "name": "HW_Data_Type_and_Structure_Agus Nur Hidayat.ipynb",
      "provenance": [],
      "collapsed_sections": [],
      "authorship_tag": "ABX9TyMo+7X8Sy0L0Jp/6AF9uC9x",
      "include_colab_link": true
    },
    "kernelspec": {
      "name": "python3",
      "display_name": "Python 3"
    },
    "language_info": {
      "name": "python"
    }
  },
  "cells": [
    {
      "cell_type": "markdown",
      "metadata": {
        "id": "view-in-github",
        "colab_type": "text"
      },
      "source": [
        "<a href=\"https://colab.research.google.com/github/dsdayat/Assignment-Day-4-Dibimbing-DS-Batch-15/blob/main/HW_Data_Type_and_Structure_Agus_Nur_Hidayat.ipynb\" target=\"_parent\"><img src=\"https://colab.research.google.com/assets/colab-badge.svg\" alt=\"Open In Colab\"/></a>"
      ]
    },
    {
      "cell_type": "markdown",
      "source": [
        "**ASIGNMENT DAY 4**"
      ],
      "metadata": {
        "id": "HC21jDtpJG0k"
      }
    },
    {
      "cell_type": "markdown",
      "source": [
        "**TASK 1**\n",
        "\n",
        "Challenges:\n",
        "Mini Challenges: Difficulty - Medium\n",
        "\n",
        "Write an if..else… code in Python to check whether a word is a  palindrome or not.\n",
        "\n",
        "Input: ‘malam’\n",
        "Output: ‘malam’ is a Palindrome\n",
        "\n",
        "Input: ‘ABBA’\n",
        "Output: ‘ABBA’ is a Palindrome\n",
        "\n",
        "Input: ‘Python’\n",
        "Output: ‘Python’ is not a Palindrome.\n"
      ],
      "metadata": {
        "id": "bz12S-QlDarc"
      }
    },
    {
      "cell_type": "code",
      "source": [
        "u = \"malam\"\n",
        "v = \"\"\n",
        "for i in u:\n",
        "    v=i+v #kalo mau bikin logic ini coba print dulu i nya, listingnya satu satu atau total word (ingat ygy)\n",
        "    #print(v)\n",
        "if (u==v):\n",
        "    print(U, \"is a Palindrome\")\n",
        "else:\n",
        "    print(u,\"is not a Palindrome\")"
      ],
      "metadata": {
        "id": "qaCeWvTkDxmL",
        "colab": {
          "base_uri": "https://localhost:8080/"
        },
        "outputId": "2b09c8a5-fd92-41a9-ff34-409e85e2eca0"
      },
      "execution_count": null,
      "outputs": [
        {
          "output_type": "stream",
          "name": "stdout",
          "text": [
            "malam is a Palindrome\n"
          ]
        }
      ]
    },
    {
      "cell_type": "markdown",
      "source": [
        "**TASK 2**\n",
        "\n",
        "\n",
        "Challenges:\n",
        "Mini Challenges: Difficulty - Medium\n",
        "\n",
        "black_list_word = [‘andi’, ‘susi’, ‘bola’]\n",
        "\n",
        "kalimat: andi sedang makan nasi padang, output : ada black list word\n",
        "kalimat: sandi sedang makan bermain tenis, output : tidak ada black list word\n",
        "kalimat: andi dan sandi sedang makan, output : ada black list word\n",
        "kalimat: budi dan susi sedang makan, output : ada black list word\n",
        "kalimat: erna  sedang berenang, output : tidak ada black list word\n",
        "kalimat: raffa sedang makan bermain bola , output : ada black list word\n",
        "\n",
        "Tulislah code dalam python, dimana ketika diberikan inputan kalimat sesuai dengan kasus diatas maka outputnya adalah: \n",
        "ada black list word\n",
        "tidak ada black list word\n",
        "tergantung apakah ada word yang di black list dalam satu kalimat\n"
      ],
      "metadata": {
        "id": "gPTggTBoDkho"
      }
    },
    {
      "cell_type": "code",
      "source": [
        "u = \"raffa sedang makan bermain bola\" #inputan\n",
        "v = [\"andi\",\"susi\",\"bola\"] #pake aturan listing loop untuk blacklist\n",
        "\n",
        "for i in v:\n",
        "  w=i in u #in juga bisa dipake buat logic selain ==,>, etc tapi khusus string sentece siga na\n",
        "  if w:\n",
        "   print(\"ada blacklist word di kalimat\")\n",
        "   break #jadi break ini buat menyetop looping fungsi if.\n",
        "else:\n",
        "        print(\"tidak ada blacklist word dikalimat\")#ternyata logic huruf dan word beda\n",
        "\n",
        "  "
      ],
      "metadata": {
        "id": "inKN_8NJDwHr",
        "colab": {
          "base_uri": "https://localhost:8080/"
        },
        "outputId": "55f93cd7-9dda-414f-d7f2-ffde68accf37"
      },
      "execution_count": null,
      "outputs": [
        {
          "output_type": "stream",
          "name": "stdout",
          "text": [
            "ada blacklist word di kalimat\n"
          ]
        }
      ]
    }
  ]
}